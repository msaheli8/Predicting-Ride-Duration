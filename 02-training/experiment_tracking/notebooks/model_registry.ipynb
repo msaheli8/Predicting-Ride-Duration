{
 "cells": [
  {
   "cell_type": "code",
   "execution_count": 26,
   "metadata": {},
   "outputs": [],
   "source": [
    "import pandas as pd\n",
    "import numpy as np\n",
    "import pickle\n",
    "import seaborn as sns\n",
    "import matplotlib.pyplot as plt\n",
    "import os\n",
    "from pathlib import Path\n",
    "\n",
    "from sklearn.feature_extraction import DictVectorizer\n",
    "\n",
    "from sklearn.linear_model import LinearRegression\n",
    "from sklearn.tree import DecisionTreeRegressor\n",
    "from sklearn.ensemble import RandomForestRegressor, GradientBoostingRegressor, ExtraTreesRegressor\n",
    "from sklearn.svm import LinearSVR\n",
    "\n",
    "from sklearn.metrics import mean_squared_error\n",
    "\n",
    "import mlflow\n",
    "mlflow.sklearn.autolog()"
   ]
  },
  {
   "cell_type": "code",
   "execution_count": 8,
   "metadata": {},
   "outputs": [],
   "source": [
    "os.chdir(\"/Users/sahelimukherjee/Documents/Personal/Learning/MLOps/projects/NYC_Ride_Duration_Prediction/Predicting-Ride-Duration/02-training\")"
   ]
  },
  {
   "cell_type": "code",
   "execution_count": 9,
   "metadata": {},
   "outputs": [
    {
     "data": {
      "text/plain": [
       "<Experiment: artifact_location='/Users/sahelimukherjee/Documents/Personal/Learning/MLOps/projects/NYC_Ride_Duration_Prediction/Predicting-Ride-Duration/02-training/mlruns/2', creation_time=1685279313985, experiment_id='2', last_update_time=1685279313985, lifecycle_stage='active', name='nyc-taxi-duration-experiment-0528', tags={}>"
      ]
     },
     "execution_count": 9,
     "metadata": {},
     "output_type": "execute_result"
    }
   ],
   "source": [
    "tracking_uri = \"sqlite:///mlflow.sqlite.db\"\n",
    "\n",
    "mlflow.set_tracking_uri(tracking_uri)\n",
    "mlflow.set_experiment(\"nyc-taxi-duration-experiment-0528\")"
   ]
  },
  {
   "cell_type": "code",
   "execution_count": 159,
   "metadata": {},
   "outputs": [],
   "source": [
    "def read_dataframe(filename):\n",
    "    if filename.endswith('.csv'):\n",
    "        df = pd.read_csv(filename)\n",
    "\n",
    "        df.lpep_dropoff_datetime = pd.to_datetime(df.lpep_dropoff_datetime)\n",
    "        df.lpep_pickup_datetime = pd.to_datetime(df.lpep_pickup_datetime)\n",
    "    elif filename.endswith('.parquet'):\n",
    "        df = pd.read_parquet(filename)\n",
    "\n",
    "    df['duration'] = df.lpep_dropoff_datetime - df.lpep_pickup_datetime\n",
    "    df.duration = df.duration.apply(lambda td: td.total_seconds() / 60)\n",
    "\n",
    "    df = df[(df.duration >= 1) & (df.duration <= 60)]\n",
    "\n",
    "    categorical = ['PULocationID', 'DOLocationID']\n",
    "    df[categorical] = df[categorical].astype(str)\n",
    "    \n",
    "    return df\n",
    "\n",
    "\n",
    "def preprocess(df, dv):\n",
    "    # creating target vector\n",
    "    y = df[\"duration\"].values\n",
    "\n",
    "    # create feature matrix\n",
    "    df.drop(\"duration\", axis = 1)\n",
    "    df['PU_DO'] = df['PULocationID'] + '_' + df['DOLocationID']\n",
    "    categorical = ['PU_DO']\n",
    "    numerical = ['trip_distance']\n",
    "    train_dicts = df[categorical + numerical].to_dict(orient='records')\n",
    "    return dv.transform(train_dicts), y\n",
    "\n",
    "\n"
   ]
  },
  {
   "cell_type": "code",
   "execution_count": 12,
   "metadata": {},
   "outputs": [],
   "source": [
    "train_data_path = \"/Users/sahelimukherjee/Documents/Personal/Learning/MLOps/projects/NYC_Ride_Duration_Prediction/Predicting-Ride-Duration/01-intro/data/train/green_tripdata_2021-01.parquet\"\n",
    "val_data_path = \"/Users/sahelimukherjee/Documents/Personal/Learning/MLOps/projects/NYC_Ride_Duration_Prediction/Predicting-Ride-Duration/01-intro/data/val/green_tripdata_2021-02.parquet\"\n",
    "\n",
    "df_train = read_dataframe(train_data_path)\n",
    "df_val = read_dataframe(val_data_path)\n",
    "\n",
    "df_train['PU_DO'] = df_train['PULocationID'] + '_' + df_train['DOLocationID']\n",
    "df_val['PU_DO'] = df_val['PULocationID'] + '_' + df_val['DOLocationID']\n",
    "\n",
    "categorical = ['PU_DO'] #'PULocationID', 'DOLocationID']\n",
    "numerical = ['trip_distance']\n",
    "\n",
    "dv = DictVectorizer()\n",
    "\n",
    "train_dicts = df_train[categorical + numerical].to_dict(orient='records')\n",
    "X_train = dv.fit_transform(train_dicts)\n",
    "\n",
    "val_dicts = df_val[categorical + numerical].to_dict(orient='records')\n",
    "X_val = dv.transform(val_dicts)\n",
    "\n",
    "target = 'duration'\n",
    "y_train = df_train[target].values\n",
    "y_val = df_val[target].values"
   ]
  },
  {
   "cell_type": "code",
   "execution_count": 71,
   "metadata": {},
   "outputs": [
    {
     "name": "stderr",
     "output_type": "stream",
     "text": [
      "/Users/sahelimukherjee/Documents/Personal/Learning/MLOps/projects/venv/lib/python3.9/site-packages/sklearn/svm/_base.py:1244: ConvergenceWarning: Liblinear failed to converge, increase the number of iterations.\n",
      "  warnings.warn(\n"
     ]
    }
   ],
   "source": [
    "for model_class in (LinearRegression, DecisionTreeRegressor, RandomForestRegressor,\n",
    "                     GradientBoostingRegressor, ExtraTreesRegressor, LinearSVR):\n",
    "\n",
    "    with mlflow.start_run(experiment_id= '2'):\n",
    "        mlflow.log_params({\"train_data\": train_data_path,\n",
    "                        \"validation_data\": val_data_path})\n",
    "        mlflow.set_tags({\"model\": model_class, \"developer\": \"Saheli\"})\n",
    "        mlflow.log_artifact(local_path= \"models/preprocessor.b\", \n",
    "                            artifact_path= \"preprocessor\")\n",
    "        \n",
    "        model = model_class()\n",
    "        model.fit(X_train, y_train)\n",
    "\n",
    "        y_pred = model.predict(X_val)\n",
    "        rmse = mean_squared_error(y_val, y_pred, squared= False)\n",
    "        mlflow.log_metric(\"rmse\", rmse)\n"
   ]
  },
  {
   "attachments": {},
   "cell_type": "markdown",
   "metadata": {},
   "source": []
  },
  {
   "attachments": {},
   "cell_type": "markdown",
   "metadata": {},
   "source": [
    "## Create experiment and train models using MLflowClient"
   ]
  },
  {
   "cell_type": "code",
   "execution_count": 35,
   "metadata": {},
   "outputs": [],
   "source": [
    "from mlflow import MlflowClient\n",
    "\n",
    "MLFLOW_TRACKING_URI = \"sqlite:///mlflow.sqlite.db\"\n",
    "client = MlflowClient(tracking_uri=MLFLOW_TRACKING_URI)"
   ]
  },
  {
   "cell_type": "code",
   "execution_count": 75,
   "metadata": {},
   "outputs": [
    {
     "name": "stdout",
     "output_type": "stream",
     "text": [
      "Name: nyc-taxi-duration-0528-v2\n",
      "Experiment_id: 5\n",
      "Artifact Location: /Users/sahelimukherjee/Documents/Personal/Learning/MLOps/projects/NYC_Ride_Duration_Prediction/Predicting-Ride-Duration/02-training/mlruns\n",
      "Tags: {'version': 'v1', 'priority': 'P1', 'regression.framework': 'Duration prediction'}\n",
      "Lifecycle_stage: active\n"
     ]
    }
   ],
   "source": [
    "## Creating experiment using MLflow client\n",
    "experiment_id = client.create_experiment(\n",
    "                                            \"nyc-taxi-duration-0528-v2\",\n",
    "                                            artifact_location= \"./mlruns/\",\n",
    "                                            tags = {\"version\": \"v1\", \"priority\": \"P1\"}\n",
    "                                        )\n",
    "\n",
    "client.set_experiment_tag(experiment_id, \"regression.framework\", \"Duration prediction\")\n",
    "\n",
    "# Fetch experiment metadata information\n",
    "experiment = client.get_experiment(experiment_id)\n",
    "print(\"Name: {}\".format(experiment.name))\n",
    "print(\"Experiment_id: {}\".format(experiment.experiment_id))\n",
    "print(\"Artifact Location: {}\".format(experiment.artifact_location))\n",
    "print(\"Tags: {}\".format(experiment.tags))\n",
    "print(\"Lifecycle_stage: {}\".format(experiment.lifecycle_stage))"
   ]
  },
  {
   "cell_type": "code",
   "execution_count": 77,
   "metadata": {},
   "outputs": [],
   "source": [
    "\n",
    "for model_class in (LinearRegression, DecisionTreeRegressor):\n",
    "\n",
    "    with mlflow.start_run(experiment_id= experiment_id):\n",
    "        \n",
    "        mlflow.log_params({\"train_data\": train_data_path,\n",
    "                        \"validation_data\": val_data_path})\n",
    "        mlflow.set_tags({\"model\": model_class, \"developer\": \"Saheli\"})\n",
    "        mlflow.log_artifact(local_path= \"models/preprocessor.b\", \n",
    "                            artifact_path= \"preprocessor\")\n",
    "        \n",
    "        model = model_class()\n",
    "        model.fit(X_train, y_train)\n",
    "\n",
    "        y_pred = model.predict(X_val)\n",
    "        rmse = mean_squared_error(y_val, y_pred, squared= False)\n",
    "        mlflow.log_metric(\"validation-rmse\", rmse)\n"
   ]
  },
  {
   "cell_type": "code",
   "execution_count": 105,
   "metadata": {},
   "outputs": [
    {
     "name": "stdout",
     "output_type": "stream",
     "text": [
      "run_id : f023a5ae4210482dbfc9e3f2d175879e, model : GradientBoostingRegressor, rmse : 6.7423\n",
      "run_id : 3aafc3e2048f4633ba8b00bcf4996d4f, model : RandomForestRegressor, rmse : 6.8993\n",
      "run_id : 6019128a3a054f60b7e4a537aed45f06, model : ExtraTreesRegressor, rmse : 6.9410\n"
     ]
    }
   ],
   "source": [
    "from mlflow.entities import ViewType\n",
    "\n",
    "runs = client.search_runs(\n",
    "                            experiment_ids= ['2'],\n",
    "                            filter_string= \"metric.rmse < 7 and tags.developer = 'Saheli'\",\n",
    "                            run_view_type= ViewType.ACTIVE_ONLY,\n",
    "                            max_results= 5,\n",
    "                            order_by= [\"metric.rmse ASC\"]\n",
    "                        )\n",
    "\n",
    "for run in runs:\n",
    "    print(f\"run_id : {run.info.run_id}, model : {run.data.tags['estimator_name']}, rmse : {run.data.metrics['rmse']:.4f}\")\n",
    "\n"
   ]
  },
  {
   "attachments": {},
   "cell_type": "markdown",
   "metadata": {},
   "source": [
    "## Register models"
   ]
  },
  {
   "cell_type": "code",
   "execution_count": 106,
   "metadata": {},
   "outputs": [
    {
     "name": "stderr",
     "output_type": "stream",
     "text": [
      "Registered model 'NYC-Ride-Duration-Regressor' already exists. Creating a new version of this model...\n",
      "2023/05/29 00:23:30 INFO mlflow.tracking._model_registry.client: Waiting up to 300 seconds for model version to finish creation. Model name: NYC-Ride-Duration-Regressor, version 5\n",
      "Created version '5' of model 'NYC-Ride-Duration-Regressor'.\n"
     ]
    },
    {
     "data": {
      "text/plain": [
       "<ModelVersion: aliases=[], creation_timestamp=1685300010974, current_stage='None', description=None, last_updated_timestamp=1685300010974, name='NYC-Ride-Duration-Regressor', run_id='f023a5ae4210482dbfc9e3f2d175879e', run_link=None, source='/Users/sahelimukherjee/Documents/Personal/Learning/MLOps/projects/NYC_Ride_Duration_Prediction/Predicting-Ride-Duration/02-training/mlruns/2/f023a5ae4210482dbfc9e3f2d175879e/artifacts/model', status='READY', status_message=None, tags={'model': 'GradientBoostingRegressor'}, user_id=None, version=5>"
      ]
     },
     "execution_count": 106,
     "metadata": {},
     "output_type": "execute_result"
    }
   ],
   "source": [
    "run_id = \"f023a5ae4210482dbfc9e3f2d175879e\"\n",
    "model_uri = f'runs:/{run_id}/model'\n",
    "version_name = \"GradientBoostingRegressor\"\n",
    "\n",
    "mlflow.register_model(model_uri, \n",
    "                      name = \"NYC-Ride-Duration-Regressor\", \n",
    "                      tags = {\"model\": version_name})"
   ]
  },
  {
   "attachments": {},
   "cell_type": "markdown",
   "metadata": {},
   "source": [
    "### Register model using MLflowClient"
   ]
  },
  {
   "cell_type": "code",
   "execution_count": 109,
   "metadata": {},
   "outputs": [
    {
     "name": "stderr",
     "output_type": "stream",
     "text": [
      "2023/05/29 00:32:37 INFO mlflow.tracking._model_registry.client: Waiting up to 300 seconds for model version to finish creation. Model name: NYC-Ride-Duration-GBMRegressor, version 1\n"
     ]
    }
   ],
   "source": [
    "client.create_registered_model(\"NYC-Ride-Duration-GBMRegressor\")\n",
    "\n",
    "\n",
    "result = client.create_model_version(\n",
    "    name = \"NYC-Ride-Duration-GBMRegressor\",\n",
    "    source = model_uri,\n",
    "    run_id = run_id,\n",
    "    description= \"GradientBoosting regression model\"\n",
    ")\n",
    "\n",
    "## delete registered model\n",
    "# client.delete_registered_model(name=\"NYC-Ride-Duration-GBMRegressor\")"
   ]
  },
  {
   "attachments": {},
   "cell_type": "markdown",
   "metadata": {},
   "source": [
    "## Stage models in registry"
   ]
  },
  {
   "cell_type": "code",
   "execution_count": 126,
   "metadata": {},
   "outputs": [
    {
     "data": {
      "text/plain": [
       "<ModelVersion: aliases=[], creation_timestamp=1685301982376, current_stage='Staging', description='This model version 6 was trasitioned to staging on 2023-05-29', last_updated_timestamp=1685302000096, name='NYC-Ride-Duration-Regressor', run_id='12feba662000405f9284453a12bf67f6', run_link='', source='/Users/sahelimukherjee/Documents/Personal/Learning/MLOps/projects/NYC_Ride_Duration_Prediction/Predicting-Ride-Duration/02-training/mlruns/2/12feba662000405f9284453a12bf67f6/artifacts/model', status='READY', status_message=None, tags={}, user_id=None, version=6>"
      ]
     },
     "execution_count": 126,
     "metadata": {},
     "output_type": "execute_result"
    }
   ],
   "source": [
    "model_version = 6\n",
    "new_stage = \"staging\"\n",
    "\n",
    "client.transition_model_version_stage(\n",
    "                                        name = model_name,\n",
    "                                        version= model_version,\n",
    "                                        stage = new_stage,\n",
    "                                        archive_existing_versions=False\n",
    "                                    )\n",
    "\n",
    "from datetime import date\n",
    "client.update_model_version(\n",
    "                                name = model_name,\n",
    "                                version= model_version,\n",
    "                                description= f\"This model version {model_version} was trasitioned to {new_stage} on {date.today()}\"\n",
    "                            )"
   ]
  },
  {
   "cell_type": "code",
   "execution_count": null,
   "metadata": {},
   "outputs": [],
   "source": [
    "model_name = \"NYC-Ride-Duration-Regressor\"\n",
    "\n",
    "latest_versions = client.get_latest_versions(name = model_name)\n",
    "\n",
    "for version in latest_versions:\n",
    "    print(f\"version: {version.version}, run_id: {version.run_id}, stage: {version.current_stage}\")"
   ]
  },
  {
   "attachments": {},
   "cell_type": "markdown",
   "metadata": {},
   "source": [
    "## Prediction using registered model"
   ]
  },
  {
   "cell_type": "code",
   "execution_count": 146,
   "metadata": {},
   "outputs": [
    {
     "name": "stdout",
     "output_type": "stream",
     "text": [
      "version: 2, stage: Archived\n",
      "version: 6, stage: Staging\n",
      "version: 4, stage: Production\n"
     ]
    }
   ],
   "source": [
    "\n",
    "latest_versions = client.get_latest_versions(name = model_name)\n",
    "\n",
    "prod_run_id = ''\n",
    "prod_version = ''\n",
    "prod_artifacts_path = ''\n",
    "\n",
    "for version in latest_versions:\n",
    "    print(f\"version: {version.version}, stage: {version.current_stage}\")\n",
    "    if version.current_stage == \"Production\":\n",
    "        prod_run_id = version.run_id\n",
    "        prod_version = version.version\n",
    "        prod_artifacts_path = version.source.rsplit(\"/\", 1)[0]\n"
   ]
  },
  {
   "cell_type": "code",
   "execution_count": 167,
   "metadata": {},
   "outputs": [],
   "source": [
    "def test_model(X_test, y_test, name, stage):\n",
    "    model = mlflow.pyfunc.load_model(f\"models:/{name}/{stage}\")\n",
    "    y_pred = model.predict(X_test)\n",
    "    return {\"rmse\": mean_squared_error(y_test, y_pred, squared=False)}"
   ]
  },
  {
   "cell_type": "code",
   "execution_count": 161,
   "metadata": {},
   "outputs": [],
   "source": [
    "prod_preprocess_uri = prod_artifacts_path + \"/preprocessor/preprocessor.b\"\n",
    "\n",
    "with open(prod_preprocess_uri, 'rb') as f:\n",
    "    dv = pickle.load(f)\n",
    "\n",
    "\n",
    "test_data_path = \"/Users/sahelimukherjee/Documents/Personal/Learning/MLOps/projects/NYC_Ride_Duration_Prediction/Predicting-Ride-Duration/01-intro/data/test/green_tripdata_2021-03.parquet\"\n",
    "\n",
    "df = read_dataframe(test_data_path)\n",
    "X_test, y_test = preprocess(df, dv)"
   ]
  },
  {
   "cell_type": "code",
   "execution_count": 170,
   "metadata": {},
   "outputs": [
    {
     "name": "stderr",
     "output_type": "stream",
     "text": [
      "2023/05/29 01:36:57 WARNING mlflow.pyfunc: Detected one or more mismatches between the model's dependencies and the current Python environment:\n",
      " - mlflow (current: 2.3.2, required: mlflow==2.3)\n",
      "To fix the mismatches, call `mlflow.pyfunc.get_model_dependencies(model_uri)` to fetch the model's environment and install dependencies using the resulting environment file.\n"
     ]
    },
    {
     "name": "stdout",
     "output_type": "stream",
     "text": [
      "CPU times: user 121 ms, sys: 4.93 ms, total: 126 ms\n",
      "Wall time: 125 ms\n"
     ]
    },
    {
     "data": {
      "text/plain": [
       "{'rmse': 7.403930760220898}"
      ]
     },
     "execution_count": 170,
     "metadata": {},
     "output_type": "execute_result"
    }
   ],
   "source": [
    "%time test_model(X_test, y_test, name = model_name, stage = \"Production\")"
   ]
  }
 ],
 "metadata": {
  "kernelspec": {
   "display_name": "venv",
   "language": "python",
   "name": "python3"
  },
  "language_info": {
   "codemirror_mode": {
    "name": "ipython",
    "version": 3
   },
   "file_extension": ".py",
   "mimetype": "text/x-python",
   "name": "python",
   "nbconvert_exporter": "python",
   "pygments_lexer": "ipython3",
   "version": "3.9.7"
  },
  "orig_nbformat": 4
 },
 "nbformat": 4,
 "nbformat_minor": 2
}
